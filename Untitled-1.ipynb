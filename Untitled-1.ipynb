{
 "cells": [
  {
   "cell_type": "code",
   "execution_count": 27,
   "metadata": {},
   "outputs": [
    {
     "name": "stdout",
     "output_type": "stream",
     "text": [
      "tensor([[[[89.5273, 93.5273],\n",
      "          [95.5273, 92.5273]],\n",
      "\n",
      "         [[92.4343, 96.4343],\n",
      "          [98.4343, 95.4343]]]], dtype=torch.float64)\n",
      "tensor([[[[89.5273, 93.5273],\n",
      "          [95.5273, 92.5273]],\n",
      "\n",
      "         [[92.4343, 96.4343],\n",
      "          [98.4343, 95.4343]]]])\n",
      "tensor(-2.0504e-05, dtype=torch.float64)\n"
     ]
    }
   ],
   "source": [
    "#手动实现卷积\n",
    "def my_conv2d(Input,kernel,stride,padding,bias):\n",
    "    Input = Input.numpy()\n",
    "    kernel = kernel.numpy()\n",
    "    bias = bias.numpy()\n",
    "    B,C,H,W = Input.shape\n",
    "    Ko,_,Hk,Wk = kernel.shape\n",
    "    if padding > 0:\n",
    "        data = np.zeros((B,C,H+2*padding,W+2*padding))\n",
    "        data[:,:,padding:-padding,padding:-padding] = Input\n",
    "        Input = data\n",
    "    Hout = int((H-Hk+2*padding)/stride+1)\n",
    "    Wout = int((W-Wk+2*padding)/stride+1)\n",
    "    Output = np.zeros((B,Ko,Hout,Wout))\n",
    "    for b in range(B):\n",
    "        for k in range(Ko):\n",
    "            for i in range(Hout):\n",
    "                for j in range(Wout):\n",
    "                    Output[b,k,i,j] = np.sum(Input[b,:,i*stride:i*stride+Hk,j*stride:j*stride+Wk]*kernel[k])+bias[k]\n",
    "    Output = torch.from_numpy(Output)\n",
    "    return Output\n",
    "\n",
    "\n",
    "\n",
    "import torch\n",
    "import numpy as np\n",
    "import torch.nn.functional as F\n",
    "B = batch_size = 1\n",
    "C = in_c = in_channels = 3\n",
    "H = height = 5\n",
    "W = weight = 5\n",
    "input_feature_map = torch.randint(0, 5, (B, C, H, W)).float()\n",
    "K = kernel_size = 5\n",
    "out_c = out_channels = 2\n",
    "kernel = torch.ones(out_c, in_c, K, K)\n",
    "stride = 2\n",
    "padding = 1\n",
    "bias = torch.randn(out_c)  # 和输出通道数维度相同\n",
    "# print(bias)\n",
    "\n",
    "# 手动实现\n",
    "output_feature_map = my_conv2d(input_feature_map, kernel, stride, padding, bias)\n",
    "print(output_feature_map)\n",
    "\n",
    "# pytorch API funcitonal\n",
    "api_output_feature_map = F.conv2d(input_feature_map, kernel, stride=stride, padding=padding, bias=bias)\n",
    "print(api_output_feature_map)\n",
    "print(torch.sum(api_output_feature_map-output_feature_map))\n"
   ]
  },
  {
   "cell_type": "code",
   "execution_count": 1,
   "metadata": {},
   "outputs": [
    {
     "data": {
      "image/png": "[encoded data removed]",
      "text/plain": [
       "<Figure size 640x480 with 1 Axes>"
      ]
     },
     "metadata": {},
     "output_type": "display_data"
    },
    {
     "name": "stdout",
     "output_type": "stream",
     "text": [
      "[0.79664777 0.70984056 0.16573009 0.         0.        ]\n",
      "[0. 0.]\n",
      "[1.]\n"
     ]
    },
    {
     "data": {
      "image/png": "[encoded data removed]",
      "text/plain": [
       "<Figure size 640x480 with 1 Axes>"
      ]
     },
     "metadata": {},
     "output_type": "display_data"
    }
   ],
   "source": [
    "#手动实现NMS\n",
    "def nms(dst,thresh):\n",
    "    x1 = dst[:,0]\n",
    "    y1 = dst[:,1]\n",
    "    x2 = dst[:,2]\n",
    "    y2 = dst[:,3]\n",
    "    area = (x2-x1+1)*(y2-y1+1)\n",
    "    score = dst[:,4]\n",
    "    order = score.argsort()[::-1]\n",
    "    keep = []\n",
    "    while order.size >0:\n",
    "        i = order[0]\n",
    "        keep.append(i)\n",
    "        xx1 = np.maximum(x1[i],x1[order[1:]])\n",
    "        yy1 = np.maximum(y1[i],y1[order[1:]])\n",
    "        xx2 = np.minimum(x2[i],x2[order[1:]])\n",
    "        yy2 = np.minimum(y2[i],y2[order[1:]])\n",
    "        inter = np.maximum(0,xx2-xx1+1)*np.maximum(0,yy2-yy1+1)\n",
    "        IOU = inter/(area[i]+area[order[1:]]-inter)\n",
    "        nodrop = np.where(IOU<=thresh)[0]\n",
    "        order = order[nodrop+1]\n",
    "    return keep\n",
    "\n",
    "\n",
    "import matplotlib.pyplot as plt\n",
    "import numpy as np\n",
    "boxes = np.array([[100, 100, 210, 210, 0.72],\n",
    "                  [250, 250, 420, 420, 0.8],\n",
    "                  [220, 220, 320, 330, 0.92],\n",
    "                  [100, 100, 210, 210, 0.72],\n",
    "                  [230, 240, 325, 330, 0.81],\n",
    "                  [220, 230, 315, 340, 0.9]])\n",
    "\n",
    "\n",
    "def plot_bbox(dets, c='k', title_name=\"title\"):\n",
    "    x1 = dets[:, 0]\n",
    "    y1 = dets[:, 1]\n",
    "    x2 = dets[:, 2]\n",
    "    y2 = dets[:, 3]\n",
    "\n",
    "    plt.plot([x1, x2], [y1, y1], c)\n",
    "    plt.plot([x1, x1], [y1, y2], c)\n",
    "    plt.plot([x1, x2], [y2, y2], c)\n",
    "    plt.plot([x2, x2], [y1, y2], c)\n",
    "    plt.title(title_name)\n",
    "\n",
    "\n",
    "plot_bbox(boxes, 'k', title_name=\"before nms\")  # before nms\n",
    "plt.show()\n",
    "\n",
    "keep = nms(boxes, thresh=0.7)\n",
    "\n",
    "plot_bbox(boxes[keep], 'r', title_name=\"after_nms\")  # after nms\n",
    "plt.show()"
   ]
  },
  {
   "cell_type": "code",
   "execution_count": null,
   "metadata": {},
   "outputs": [],
   "source": [
    "#手动实现逻辑回归，并计算bce loss\n",
    "def logit(X,W,B):\n",
    "    output = np.dot(X,W) + B\n",
    "    output = 1/(1+np.exp(-1*output))\n",
    "\n",
    "\n",
    "def bce_loss(y_pre,y_real):\n",
    "    return -1*np.mean(y_real*np.log(y_pre)+(1-y_real)*np.log(1-y_pre))"
   ]
  },
  {
   "cell_type": "code",
   "execution_count": null,
   "metadata": {},
   "outputs": [],
   "source": [
    "#手动实现BN\n",
    "def BN_train(X,gamma,beta,bn_param):\n",
    "#假设X的形状为(B,C,H,W)\n",
    "    running_mean = bn_param['running_mean']\n",
    "    running_var = bn_param['running_var']\n",
    "    momentum = bn_param['momentum']\n",
    "    eps = bn_param['eps']\n",
    "    X_mean = X.mean(axis=0,keepdims=True).mean(axis=2,keepdims=True).mean(axis=3,keepdims=True) #X_mean (1xCx1x1)\n",
    "    X_var = X.var(axis=0,keepdims=True).var(axis=2,keepdims=True).var(axis=3,keepdims=True) #X_var (1xCx1x1)\n",
    "    bn_param['running_mean'] = momentum*running_mean+(1-momentum)*X_mean\n",
    "    bn_param['running_var'] = momentum*running_var+(1-momentum)*X_var\n",
    "    X_norm = (X-X_mean)/np.sqrt(X_var+eps)\n",
    "    Output = gamma*X_norm+beta\n",
    "    return Output,bn_param\n",
    "\n",
    "def BN_test(X,gamma,beta,bn_param):\n",
    "    X_mean = bn_param['running_mean']\n",
    "    X_var = bn_param['running_var']\n",
    "    eps = bn_param['eps']\n",
    "    X_norm = (X-X_mean)/np.sqrt(X_var+eps)\n",
    "    Output = X_norm*gamma + beta\n",
    "    return Output"
   ]
  },
  {
   "cell_type": "code",
   "execution_count": null,
   "metadata": {},
   "outputs": [],
   "source": [
    "class LayerNorm(nn.Module):\n",
    "    def __init__(self, features, eps=1e-6):\n",
    "        super(LayerNorm, self).__init__()\n",
    "        self.a_2 = nn.Parameter(torch.ones(features))\n",
    "        self.b_2 = nn.Parameter(torch.zeros(features))\n",
    "        self.eps = eps\n",
    "\n",
    "    def forward(self, x):\n",
    "        mean = x.mean(-1, keepdim=True)\n",
    "        std = x.std(-1, keepdim=True)\n",
    "        return self.a_2 * (x - mean) / (std + self.eps) + self.b_2"
   ]
  },
  {
   "cell_type": "code",
   "execution_count": null,
   "metadata": {},
   "outputs": [],
   "source": [
    "class FocalLoss(nn.Module):           \n",
    "    def __init__(self, gamma=0,alpha=1):               \n",
    "        super(FocalLoss, self).__init__()               \n",
    "        self.gamma = gamma               \n",
    "        self.ce = nn.CrossEntropyLoss()               \n",
    "        self.alpha=alpha           \n",
    "    def forward(self, input, target):               \n",
    "        logp = self.ce(input, target)               \n",
    "        p = torch.exp(-logp)               \n",
    "        loss = (1 - p) ** self.gamma * logp               \n",
    "        loss = self.alpha*loss               \n",
    "        return loss.mean()"
   ]
  },
  {
   "cell_type": "code",
   "execution_count": null,
   "metadata": {},
   "outputs": [],
   "source": [
    "def cross_entropy(a, y):\n",
    "    return np.sum(np.nan_to_num(-y*np.log(a)-(1-y)*np.log(1-a)))"
   ]
  },
  {
   "cell_type": "code",
   "execution_count": null,
   "metadata": {},
   "outputs": [],
   "source": [
    "import numpy as np\n",
    "class Dropout:\n",
    "    def __init__(self, dropout_ratio=0.5):\n",
    "        self.dropout_ratio = dropout_ratio\n",
    "        self.mask = None\n",
    "    def forward(self, x, train_flg=True):\n",
    "        if train_flg:\n",
    "            # *为序列解包\n",
    "            self.mask = np.random.rand(*x.shape) > self.dropout_ratio\n",
    "            return x * self.mask\n",
    "        else:\n",
    "            return x * (1.0 - self.dropout_ratio)\n",
    "    def backward(self, dout):\n",
    "        return dout * self.mask"
   ]
  },
  {
   "cell_type": "code",
   "execution_count": null,
   "metadata": {},
   "outputs": [],
   "source": []
  }
 ],
 "metadata": {
  "kernelspec": {
   "display_name": "pytorch",
   "language": "python",
   "name": "python3"
  },
  "language_info": {
   "codemirror_mode": {
    "name": "ipython",
    "version": 3
   },
   "file_extension": ".py",
   "mimetype": "text/x-python",
   "name": "python",
   "nbconvert_exporter": "python",
   "pygments_lexer": "ipython3",
   "version": "3.9.16"
  },
  "orig_nbformat": 4
 },
 "nbformat": 4,
 "nbformat_minor": 2
}
