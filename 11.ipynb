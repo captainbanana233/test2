{
 "cells": [
  {
   "cell_type": "code",
   "execution_count": 5,
   "metadata": {},
   "outputs": [],
   "source": [
    "def count_subsequence(s, t, k):\n",
    "    mod = 10**9 + 7 # 定义模数\n",
    "    m = len(s) # s的长度\n",
    "    n = len(t) # t的长度\n",
    "    dp = [[0] * (n + 1) for _ in range(m + 1)] # 初始化二维数组\n",
    "    for i in range(m + 1):\n",
    "        dp[i][0] = 1 # 空串是任意串的子序列\n",
    "    for i in range(1, m + 1):\n",
    "        for j in range(1, n + 1):\n",
    "            if s[i - 1] == t[j - 1]: # 如果s的第i个字符和t的第j个字符相等\n",
    "                dp[i][j] = 0\n",
    "                for p in range(max(0, i - k - 1), i): # 遍历s的第i-k-1个字符到第i-1个字符，注意i-k-1不能小于0\n",
    "                    dp[i][j] += dp[p][j - 1] # 累加子序列的个数\n",
    "                dp[i][j] %= mod # 取模\n",
    "    return dp[m][n] # 返回最终答案\n"
   ]
  },
  {
   "cell_type": "code",
   "execution_count": 10,
   "metadata": {},
   "outputs": [
    {
     "name": "stdout",
     "output_type": "stream",
     "text": [
      "3\n",
      "1\n"
     ]
    }
   ],
   "source": [
    "s = \"svvvd\"\n",
    "t = \"svd\"\n",
    "k = 2\n",
    "print(count_subsequence(s, t, k)) # 输出1\n",
    "k = 1\n",
    "print(count_subsequence(s, t, k)) # 输出0"
   ]
  },
  {
   "cell_type": "code",
   "execution_count": 3,
   "metadata": {},
   "outputs": [],
   "source": [
    "def threeSum( nums):\n",
    "    \"\"\"\n",
    "    :type nums: List[int]\n",
    "    :rtype: List[List[int]]\n",
    "    \"\"\"\n",
    "    target = 0\n",
    "    nums.sort()\n",
    "    n = len(nums)\n",
    "    if n <3:\n",
    "        return []\n",
    "    result = []\n",
    "    for i in range(n-2):\n",
    "        a = nums[i]\n",
    "        tg = target-a\n",
    "        l,r = i+1,n-1\n",
    "        while l<r:\n",
    "            res = nums[l]+nums[r]\n",
    "            if res == tg:\n",
    "                result.append([a,l,r])\n",
    "                l += 1\n",
    "            elif res < tg:\n",
    "                l += 1\n",
    "            else:\n",
    "                r -= 1\n",
    "    return result"
   ]
  },
  {
   "cell_type": "code",
   "execution_count": 4,
   "metadata": {},
   "outputs": [
    {
     "ename": "KeyboardInterrupt",
     "evalue": "",
     "output_type": "error",
     "traceback": [
      "\u001b[1;31m---------------------------------------------------------------------------\u001b[0m",
      "\u001b[1;31mKeyboardInterrupt\u001b[0m                         Traceback (most recent call last)",
      "Cell \u001b[1;32mIn[4], line 1\u001b[0m\n\u001b[1;32m----> 1\u001b[0m threeSum([\u001b[39m-\u001b[39;49m\u001b[39m1\u001b[39;49m,\u001b[39m0\u001b[39;49m,\u001b[39m1\u001b[39;49m,\u001b[39m2\u001b[39;49m,\u001b[39m-\u001b[39;49m\u001b[39m1\u001b[39;49m,\u001b[39m-\u001b[39;49m\u001b[39m4\u001b[39;49m])\n",
      "Cell \u001b[1;32mIn[3], line 17\u001b[0m, in \u001b[0;36mthreeSum\u001b[1;34m(nums)\u001b[0m\n\u001b[0;32m     15\u001b[0m l,r \u001b[39m=\u001b[39m i\u001b[39m+\u001b[39m\u001b[39m1\u001b[39m,n\u001b[39m-\u001b[39m\u001b[39m1\u001b[39m\n\u001b[0;32m     16\u001b[0m \u001b[39mwhile\u001b[39;00m l\u001b[39m<\u001b[39mr:\n\u001b[1;32m---> 17\u001b[0m     res \u001b[39m=\u001b[39m nums[l]\u001b[39m+\u001b[39;49mnums[r]\n\u001b[0;32m     18\u001b[0m     \u001b[39mif\u001b[39;00m res \u001b[39m==\u001b[39m tg:\n\u001b[0;32m     19\u001b[0m         result\u001b[39m.\u001b[39mappend([a,l,r])\n",
      "\u001b[1;31mKeyboardInterrupt\u001b[0m: "
     ]
    }
   ],
   "source": [
    "threeSum([-1,0,1,2,-1,-4])"
   ]
  },
  {
   "cell_type": "code",
   "execution_count": null,
   "metadata": {},
   "outputs": [],
   "source": []
  }
 ],
 "metadata": {
  "kernelspec": {
   "display_name": "pytorch",
   "language": "python",
   "name": "python3"
  },
  "language_info": {
   "codemirror_mode": {
    "name": "ipython",
    "version": 3
   },
   "file_extension": ".py",
   "mimetype": "text/x-python",
   "name": "python",
   "nbconvert_exporter": "python",
   "pygments_lexer": "ipython3",
   "version": "3.9.16"
  }
 },
 "nbformat": 4,
 "nbformat_minor": 2
}
